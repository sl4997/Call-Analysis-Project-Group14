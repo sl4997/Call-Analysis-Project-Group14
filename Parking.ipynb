{
 "cells": [
  {
   "cell_type": "code",
   "execution_count": 1,
   "id": "f52f8c14",
   "metadata": {},
   "outputs": [],
   "source": [
    "import numpy as np\n",
    "import pandas as pd"
   ]
  },
  {
   "cell_type": "code",
   "execution_count": 2,
   "id": "39da54cf",
   "metadata": {},
   "outputs": [
    {
     "name": "stderr",
     "output_type": "stream",
     "text": [
      "I:\\anaconda1\\lib\\site-packages\\IPython\\core\\interactiveshell.py:3444: DtypeWarning: Columns (20,31,32) have mixed types.Specify dtype option on import or set low_memory=False.\n",
      "  exec(code_obj, self.user_global_ns, self.user_ns)\n"
     ]
    }
   ],
   "source": [
    "df = pd.read_csv(\"311_Service_Requests_2020.csv\")"
   ]
  },
  {
   "cell_type": "code",
   "execution_count": 3,
   "id": "822d71fd",
   "metadata": {},
   "outputs": [],
   "source": [
    "my_dis = df[df['Incident Zip'] == 10025]"
   ]
  },
  {
   "cell_type": "code",
   "execution_count": 5,
   "id": "32c8ca69",
   "metadata": {},
   "outputs": [],
   "source": [
    "my_ill = my_dis[my_dis['Complaint Type'] == 'Illegal Parking']"
   ]
  },
  {
   "cell_type": "code",
   "execution_count": 8,
   "id": "c3bec378",
   "metadata": {},
   "outputs": [
    {
     "data": {
      "text/plain": [
       "0.03775383735341787"
      ]
     },
     "execution_count": 8,
     "metadata": {},
     "output_type": "execute_result"
    }
   ],
   "source": [
    "my_fra = len(my_ill)/len(my_dis)\n",
    "my_fra"
   ]
  },
  {
   "cell_type": "code",
   "execution_count": 9,
   "id": "1d407f75",
   "metadata": {},
   "outputs": [],
   "source": [
    "all_ill = df[df['Complaint Type'] == 'Illegal Parking']"
   ]
  },
  {
   "cell_type": "code",
   "execution_count": 11,
   "id": "9f1890e8",
   "metadata": {},
   "outputs": [
    {
     "data": {
      "text/plain": [
       "0.07487334365033108"
      ]
     },
     "execution_count": 11,
     "metadata": {},
     "output_type": "execute_result"
    }
   ],
   "source": [
    "all_fra = len(all_ill)/len(df)\n",
    "all_fra"
   ]
  },
  {
   "cell_type": "code",
   "execution_count": 18,
   "id": "bbf36f13",
   "metadata": {},
   "outputs": [],
   "source": [
    "higher_parking_proportion = (my_fra > all_fra)"
   ]
  },
  {
   "cell_type": "code",
   "execution_count": 19,
   "id": "23aa1161",
   "metadata": {},
   "outputs": [
    {
     "data": {
      "text/plain": [
       "False"
      ]
     },
     "execution_count": 19,
     "metadata": {},
     "output_type": "execute_result"
    }
   ],
   "source": [
    "higher_parking_proportion"
   ]
  }
 ],
 "metadata": {
  "kernelspec": {
   "display_name": "Python 3",
   "language": "python",
   "name": "python3"
  },
  "language_info": {
   "codemirror_mode": {
    "name": "ipython",
    "version": 3
   },
   "file_extension": ".py",
   "mimetype": "text/x-python",
   "name": "python",
   "nbconvert_exporter": "python",
   "pygments_lexer": "ipython3",
   "version": "3.8.8"
  }
 },
 "nbformat": 4,
 "nbformat_minor": 5
}
